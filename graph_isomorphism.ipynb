{
 "cells": [
  {
   "cell_type": "markdown",
   "metadata": {},
   "source": []
  },
  {
   "attachments": {
    "image.png": {
     "image/png": "[encoded data removed]"
    }
   },
   "cell_type": "markdown",
   "metadata": {},
   "source": [
    "\n",
    "# Graph Isomorphism Problem\n",
    "***\n",
    "\n",
    "Deciding whether two graphs are structurally identical or isomorphic is a classical computational problem that has been studied from the early days of computing. Graph Isomorphism is one of a small number of natural algorithnmatic problems with unsettled complexity statue in the P / NP theory (László Babai GROUP, GRAPHS, ALGORITHMS: THE GRAPH\n",
    "ISOMORPHISM PROBLEM 1998). It is said not expected to be NP-complete, yet not known to be solvable in polynomial time. A problem is said to be NP-complete when the correctness or lack of it for every solution of the problem can be verified quickly and a solution could be found by trying all possible solutions.\n",
    "\n",
    "The Graph Isomorphism problem is a computational problem associated with determining the equivalance of two finite graphs by means of mapping every invidual nodes from the first graph to exactly another node in the other graph. \n",
    "Two graphs $G$ and $H$ are said to be isomorphic if there is a bijection between the node sets of $G$ and $H$, $f:V(G)\\to V(H)$ such that any two given vertices $u$ and $v$ in $G$ are adjacent if and only if $f(u)$ and $f(v)$ are adjacent in $H$. This relationship is described as `structure preserving bijection`. For a directed graph, the magnitude and or direction of the edges connecting adjacent nodes $u$ and $v$ of $G$ must be preserved in the corresponding $f(u)$ and $f(u)$.\n",
    "\n",
    "![image.png](attachment:image.png)\n",
    "\n",
    "The graphs depicted above shows four different graphs with 4 vertices and 5 edges a piece. On careful observation of the graph it can be quickly deduced that all the graphs are isormophic. All vertices of the graphs are connected except for the green and dark blue vertices. This provides sufficient evidence to acertain that the graphs exhibits isomorphism. From a human point of view the intuistive way to verify isomorphism between these graphs would have been as follows\n",
    "- The are equal number of Vertices in the given graphs\n",
    "- There are equal number of Edges in the given graphs. \n",
    "- There are equal amount of degree sequence in the given graphs. (2 nodes have 2 degree of edges[green and dark blue] and the other two has 3 degrees of edges[light blue and orange] summing to 10)\n",
    "\n",
    "These heuristic checks listed above may not be sufficient to determine if there is isomorphism, for more indept analysis these other conditions will be fulfiled\n",
    "- If the complement graphs of both the graphs are isomorphism, then these graphs will surely be isomorphism. \n",
    "- If the adjacent matrices of both graphs are the same, then these graphs will be an isomorphism. \n",
    "\n",
    "### Complexity of the Problem.\n",
    "\"Even when a problem is decidable and thus computationally solvable in principle, it may not be solvable in practice if the solution requires an inordinate amount of time or memory.\" (Michael Sipser Introduction to the Theory of Computation 3rd Edition, Chapter 7).\n",
    "#### Polynomial Time\n",
    "An algorithm is said to run on polynomial time if the time complexity of the algorithm on the worst case scenairo of input $n$, for $k > 0$, is $O(n^k)$. Polynomial time algorithms are acceptable for many practical purposes, but exponential time algorithms rarely are useful.\n",
    "Polynomial time algorithms are considered to be efficient and viable for practical applications because of the huge difference between an exponential time algorithm. Thus programming tasks that needs to be performed frequently within a short period of time seem to have a polynomial time algorithms and when there is none, a brute-force exponential algorithm may be implemented where and when applicable. Also worth noting that polynomial-time algorithm definition is broad in the sense that an algorithm is also considered to run on polynomial time if it makes a polynomial-time number of calls to a polynomial-time complexity function or subroutine.\n",
    "The Graph Isomorphism problem is not known to belong to the complexity class P, an algorithm is said to belong to the complexity class P if it runs in Polynomial time. In essense the graph ismorphism problem could be phrased in a less technical/mathematical form as `The search for an algorithm that can within a reasonable time, determine whether two given graphs are equivalent.` A reasonable time in this context would be a known upper bound influenced by the properties (complexity) of the given graphs.  \n",
    "\n",
    "\n",
    "Determining if there is an isomorphism in Graphs requires exhaustively searching through all possible configuration of Graph $H$ until it fits perfectly into graph $G$, this is otherwise known as the brute-force algorithm.\n",
    "Exponential time algorithms are rarely useful in practical applications. \n",
    "For a graphs with few nodes, this seems like a viable solution.\n",
    "The following demonstration shows how this solution can be implemented and the implications of its application.\n"
   ]
  },
  {
   "attachments": {},
   "cell_type": "markdown",
   "metadata": {},
   "source": [
    "## Demonstration 1.0\n",
    "\n",
    "### Assumptions\n",
    "Graphs used in this demonstrations are connected graphs, i.e. every pair of unique vertices are connected by a unique edge. This is for simplicity sake to help in comparism of graphs with varying number of vertices. \n",
    "For every graph the Number of Vertices $n$, the number of edge will be $\\frac{n * (n - 1)}{2}\\,$. \n",
    "Trying to evaluate the equivalence of a graph with $n$ edges will require the following iteration to determine if they are indeed equivalent. \n",
    "\n",
    "\n",
    "Graphh $G$ with a set of Vertices $V(G)$"
   ]
  },
  {
   "cell_type": "code",
   "execution_count": 10,
   "metadata": {},
   "outputs": [
    {
     "name": "stdout",
     "output_type": "stream",
     "text": [
      "Number of vertices:  3\n",
      "Number of edges:  3\n"
     ]
    }
   ],
   "source": [
    "## Demo 1.0 \n",
    "# n is the number of vertices\n",
    "n = 3\n",
    "def getVertices(n):\n",
    "    return (n * (n - 1) // 2)\n",
    "\n",
    "print(\"Number of vertices: \", n)\n",
    "print(\"Number of edges: \", getVertices(n))"
   ]
  },
  {
   "attachments": {},
   "cell_type": "markdown",
   "metadata": {},
   "source": [
    "For the above graph with 3 vertices and 6 edges, The number of checks/iteration that must be done to determine if the graphs has isomorphism will be $3 + 6 = 9$.\n",
    "\n",
    "This seems reasonable and viable from a naive person's point view. However, as the number of vertices increases to represent real life modelling problems the number of edges increases rapidly making application of this algorithm untanable. \n",
    "The following demonstration shows how the number of edges grows with increase in vertices. "
   ]
  },
  {
   "cell_type": "code",
   "execution_count": 14,
   "metadata": {},
   "outputs": [
    {
     "name": "stdout",
     "output_type": "stream",
     "text": [
      "Number of Vertices:  30  Number of Edges:  435\n",
      "Number of Vertices:  31  Number of Edges:  465\n",
      "Number of Vertices:  32  Number of Edges:  496\n",
      "Number of Vertices:  33  Number of Edges:  528\n",
      "Number of Vertices:  34  Number of Edges:  561\n",
      "Number of Vertices:  35  Number of Edges:  595\n",
      "Number of Vertices:  36  Number of Edges:  630\n",
      "Number of Vertices:  37  Number of Edges:  666\n",
      "Number of Vertices:  38  Number of Edges:  703\n",
      "Number of Vertices:  39  Number of Edges:  741\n",
      "Number of Vertices:  40  Number of Edges:  780\n"
     ]
    }
   ],
   "source": [
    "for i in range(30, 41):\n",
    "    print(\"Number of Vertices: \", i, \" Number of Edges: \", getVertices(i))"
   ]
  }
 ],
 "metadata": {
  "kernelspec": {
   "display_name": "Python 3",
   "language": "python",
   "name": "python3"
  },
  "language_info": {
   "codemirror_mode": {
    "name": "ipython",
    "version": 3
   },
   "file_extension": ".py",
   "mimetype": "text/x-python",
   "name": "python",
   "nbconvert_exporter": "python",
   "pygments_lexer": "ipython3",
   "version": "3.9.13"
  },
  "orig_nbformat": 4,
  "vscode": {
   "interpreter": {
    "hash": "369f2c481f4da34e4445cda3fffd2e751bd1c4d706f27375911949ba6bb62e1c"
   }
  }
 },
 "nbformat": 4,
 "nbformat_minor": 2
}
