{
 "cells": [
  {
   "cell_type": "markdown",
   "metadata": {},
   "source": []
  },
  {
   "attachments": {},
   "cell_type": "markdown",
   "metadata": {},
   "source": [
    "\n",
    "# Graph Isomorphism Problem\n",
    "***\n",
    "\n",
    "This is a computational problem associated with determining the equivalance of two finite graphs by means of mapping every invidual nodes from the first graph to exactly another node in the other graph. \n",
    "Two graphs $G$ and $H$ are said to be isomorphic if there is a bijection between the node sets of $G$ and $H$, $f:V(G)\\to V(H)$ such that any two given vertices $h_{i}$ and $h_{k}$ of $H$ are adjacent if and only if $g_{i}$ and $g_{k}$ are adjacent in $G$. This relationship is described as `structure preserving bijection`. For a directed graph, the magnitude and or direction of the edges connecting adjacent nodes $g_{i}$ and $g_{k}$ of $G$ must be preserved in the corresponding $f(g_{i})$ and $f(g_{k})$.\n",
    "\n",
    "The Graph Isomorphism problem is not known to belong to the complexity class P, an algorithm is said to belong to the complexity class P if it runs in Polynomial time. In essense the graph ismorphism problem could be phrased in a less technical/mathematical form as `The search for an algorithm that can within a reasonable time, determine whether two given graphs are equivalent.` A reasonable time in this context would be a known upper bound influenced by the properties (complexity) of the given graphs.  \n"
   ]
  },
  {
   "cell_type": "markdown",
   "metadata": {},
   "source": []
  }
 ],
 "metadata": {
  "kernelspec": {
   "display_name": "Python 3",
   "language": "python",
   "name": "python3"
  },
  "language_info": {
   "name": "python",
   "version": "3.10.6 (main, Nov 14 2022, 16:10:14) [GCC 11.3.0]"
  },
  "orig_nbformat": 4,
  "vscode": {
   "interpreter": {
    "hash": "916dbcbb3f70747c44a77c7bcd40155683ae19c65e1c03b4aa3499c5328201f1"
   }
  }
 },
 "nbformat": 4,
 "nbformat_minor": 2
}
