{
 "cells": [
  {
   "cell_type": "markdown",
   "metadata": {},
   "source": []
  },
  {
   "attachments": {},
   "cell_type": "markdown",
   "metadata": {},
   "source": [
    "\n",
    "# Graph Isomorphism Problem\n",
    "***\n",
    "\n",
    "This is a computational problem associated with determining the equivalance of two finite graphs by means of mapping every invidual nodes from the first graph to exactly another node in the other graph. \n",
    "Two graphs $G$ and $H$ are said to be isomorphic if there is a bijection between the node sets of $G$ and $H$, $f:V(G)\\to V(H)$ such that any two given vertices $u$ and $v$ in $G$ are adjacent if and only if $f(u)$ and $f(v)$ are adjacent in $H$. This relationship is described as `structure preserving bijection`. For a directed graph, the magnitude and or direction of the edges connecting adjacent nodes $u$ and $v$ of $G$ must be preserved in the corresponding $f(u)$ and $f(u)$.\n",
    "\n",
    "Determining if there is an isomorphism in Graphs requires iterating the structure of Graph $H$ through all its possible forms until it fits perfectly into graph $G$, this is otherwise known as the brute-force algorithm. For a graphs with few nodes, this seems like a viable solution.\n",
    "The following demonstration shows how this solution can be implemented and the implications of using this solution.\n",
    "\n",
    "The Graph Isomorphism problem is not known to belong to the complexity class P, an algorithm is said to belong to the complexity class P if it runs in Polynomial time. In essense the graph ismorphism problem could be phrased in a less technical/mathematical form as `The search for an algorithm that can within a reasonable time, determine whether two given graphs are equivalent.` A reasonable time in this context would be a known upper bound influenced by the properties (complexity) of the given graphs.  \n"
   ]
  },
  {
   "attachments": {},
   "cell_type": "markdown",
   "metadata": {},
   "source": [
    "## Demonstration 1.0\n",
    "\n",
    "### Assumptions\n",
    "Graphs used in this demonstrations are connected graphs, i.e. every pair of unique vertices are connected by a unique edge. \n",
    "For every graph the Number of Vertices $n$, the number of edge will be $(n * (n + 1))/2$\n",
    "Graphh $G$ with a set of Vertices $V(G)$"
   ]
  },
  {
   "cell_type": "code",
   "execution_count": null,
   "metadata": {},
   "outputs": [],
   "source": [
    "## Demo 1.0"
   ]
  },
  {
   "cell_type": "markdown",
   "metadata": {},
   "source": []
  }
 ],
 "metadata": {
  "kernelspec": {
   "display_name": "Python 3",
   "language": "python",
   "name": "python3"
  },
  "language_info": {
   "name": "python",
   "version": "3.10.7"
  },
  "orig_nbformat": 4,
  "vscode": {
   "interpreter": {
    "hash": "369f2c481f4da34e4445cda3fffd2e751bd1c4d706f27375911949ba6bb62e1c"
   }
  }
 },
 "nbformat": 4,
 "nbformat_minor": 2
}
