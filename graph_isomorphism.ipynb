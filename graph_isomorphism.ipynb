{
 "cells": [
  {
   "attachments": {},
   "cell_type": "markdown",
   "metadata": {},
   "source": [
    "# Graphs\n",
    "\n",
    "Before going further with the Graph Isomorphism problem, it is important to delve further into the definition of graphs. A Graph is an abstract data type that can be used to represent complex, non-linear relationships between objects. A graph can be represented by $G$ where $G = (V,E)$. For the Graph $G$, $V$ is a set of Vertices and $E$ is a set of edges(B. Miller and D. Ranum, 2018). Each Edge is a tuple $(v,w)$ where $w, v \\in V$ . From this definition it can be concluded that graphs can be represented as a set of Vertices and Nodes and all relevant logic and set theories can also be applied to graphs. \n",
    "Graphs are normally represented diagramatically using circles as node and interconnecting lines as edges. This is a very convinient and intuitive way of representing graphs and relationship between  the vertices (edges). However, it is important to stress that graphs are never about the diagram itself but what it represents. Graphs with limited number of nodes are suitable for graphical representation. This cannot be said about graphs with hundreds or maybe thousands of edges which is impractical to represent diagramatically. \n",
    "\n",
    "Some important terms used for graphs are listed below\n",
    "- When two nodes are connected by an edge, they are called neighbours. \n",
    "- The degree of a node is the number of other nodes that it is connected to (i.e. the number of neighbours that it has). \n",
    "- A loop is an edge that connecgs a node to itself\n",
    "- A cycle is a closed path, i.e. a path that starts and ends at the same node (and no node is visited more than once).\n",
    "\n",
    "\n",
    "A graph can be thought as a data structure that is used to describe relationships between entities. It can represent a relationship or lack of it between any distinguishable and identifiable entities which can be abstract or real data or idea.\n",
    "Graphs have become ubiquitous in the computing world owing to their ability to not only provide abstractions to real life sceneiros but also demonstrate complicated relationships with ease (Ruchi Nayyar, 2022). \n",
    "For context, graphs could be used to model social networking problems to show interconnectivity between different users. Each user in the network can be modelled as vertice and relationship like 'following each other' as an edge between the nodes (users). Also transportation network is another classical graph problem showing the interconnectivity between cities and the lack of them. The Internet could also be modelled as a graph where routers represent the nodes while an edge shows that a given set of routers are connected. \n",
    "\n",
    "Graphs can be broadly categorized into directed and undirected graphs. A graph is said to be undirected when the relationship between the nodes is symmetric. Where there exist an asymmetric relationsihp between the vertices then the graph can be said to be directed. Example of real world directed graph problem would be road networks where some motorway has a one-way traffic."
   ]
  },
  {
   "attachments": {},
   "cell_type": "markdown",
   "metadata": {},
   "source": [
    "## Graph Representation\n",
    "\n",
    "As discussed earlier, graph can be represented diagramatically. Unfortunately this is only suitable for human integpretation and cannot be used for any useful realife complex problem modelling. \n",
    "Performing computations for a graphs require a Data Structure that can effeciently represents the properties of the graph and allow for all possible calculations to be be done. \n",
    "Graphs can be represented in the following ways: \n",
    "- Adjacency Matrix.\n",
    "- Adjacency List.\n",
    "- List of Edges.\n",
    "\n",
    "All useful prgoramming languages have data structures that can be used as a building block for graph representation. "
   ]
  },
  {
   "attachments": {
    "g1-adjacency-matrix.png": {
     "image/png": "[encoded data removed]"
    },
    "g1.png": {
     "image/png": "[encoded data removed]"
    }
   },
   "cell_type": "markdown",
   "metadata": {},
   "source": [
    "### Adjacency Matrix\n",
    "\n",
    "The Adjency matrix of a graph is a square matrix used to represent a finite graph. It is probably the most popular and intuitive way of representing a graph and work reasonably well for all application. A graph with $n$ nodes will have an adjacency matrix of the order $n \\times n$. On this note we could say that an Adjacency Matrix for a given graph $G = \\{V, E\\}$ with a set of vertices $V = \\{v_1, v_2\\, ...., v_n\\}$ is a square $n \\times n$ such that its element $A_{ij}$ is 1 if there is an edge between $V_i$ and $V_j$. \n",
    "The Adjacency matrix of a graph is an important property of a graph which represents the node to edge mapping/configuration of a graph. \n",
    "It determines which pair of vertices are connected with a node/arc. \n",
    "To produce the Adjacency Matrix of a graph, the vertices are lsited in an arbitrary order where the columns and rows are labelled in the same order (Left to Right for columns & Top to Down for rows). For a pair of vertices that has an edge between them, the value of `1` is given to the cell where the first vertice on the row intersects with the second vertice on the column, otherwise the value is `0`. Since the vertices of a graph a just a set of abstract data types, the ordering of the vertices shouldn't matter. This is to say that if the ordering of the vertices are changed in a consistent way(the order is changed both for the column and row in the same way) we should end up with the 'same' representation of the graph. \n",
    "This implies that a graph can take on different form and still considered the same graph.\n",
    "It is a valid indication of isomorphism when other conditions are met.  \n",
    "\n",
    "![g1.png](attachment:g1.png)\n",
    "$$$$\n",
    "The diagram above shows a graph with 3 vertices and 3 edges showing how the vertices are connected. Choosing an order for the vertices as A, B, C will produce the following Adjacency matrix. \n",
    "$$$$\n",
    "![g1-adjacency-matrix.png](attachment:g1-adjacency-matrix.png)\n",
    "$$$$\n",
    "The diagram above shows the Adjacency matrix of the graph previously depcited using the chosen order of A, B, C. Entry that has 1 on the matrix represents an edge between the vertice listed on the row and the vertice listed on the column, while a value of 0 shows that no edge exist between the vertices. As can be seen from the matrix, an adjacency matrix of a graph without a loop (A vertices connected with itself) will have the values of 0 on the main diagonal."
   ]
  },
  {
   "attachments": {},
   "cell_type": "markdown",
   "metadata": {},
   "source": [
    "### Adjacency List\n",
    "\n",
    "This is another way of representing a graph. Adjacency List is a collection of unordered lists used to represent a graph, where each list contain describes the set of neighbours for a given vertex. It is very efficient in the sense that for a given graph $G$ with $n$ vertices and $e$ edges, it will require $n + m$ entries to represent the graph. Contrast this with adjacency matrix that requires $n^{2}$ entries to represent the graph, this can have a far reaching implication in terms of space complexity of an algorithm. \n"
   ]
  },
  {
   "attachments": {},
   "cell_type": "markdown",
   "metadata": {},
   "source": [
    "### List of Edges\n",
    "\n",
    "This is probably the simplest way of representing a graph. It is usually used for illustrative purposes since it lacks a proper structure. List of edges can be viewed as a table where every row (list containing 2 vertices) contains a single edge of the graph. "
   ]
  },
  {
   "attachments": {},
   "cell_type": "markdown",
   "metadata": {},
   "source": [
    "\n",
    "# Graph Isomorphism Problem\n",
    "\n",
    "\n",
    "Deciding whether two graphs are structurally identical or isomorphic is a classical computational problem that has been studied from the early days of computing. Graph Isomorphism is one of a small number of natural algorithnmatic problems with unsettled complexity statue in the P / NP theory (László Babai, 1998). It is said not expected to be NP-complete, yet not known to be solvable in polynomial time. A problem is said to be NP-complete when the correctness or lack of it for every solution of the problem can be verified quickly and a solution could be found by trying all possible solutions.\n",
    "\n",
    "The Graph Isomorphism problem is a computational problem associated with determining the equivalance of two finite graphs by means of mapping every invidual nodes from the first graph to exactly another node in the other graph. \n",
    "Two graphs $G$ and $H$ are said to be isomorphic if there is a bijection between the node sets of $G$ and $H$, $f:V(G)\\to V(H)$ such that any two given vertices $u$ and $v$ in $G$ are adjacent if and only if $f(u)$ and $f(v)$ are adjacent in $H$. This relationship is described as `structure preserving bijection`. For a directed graph, the magnitude and or direction of the edges connecting adjacent nodes $u$ and $v$ of $G$ must be preserved in the corresponding $f(u)$ and $f(u)$.\n",
    "\n",
    "![image.png](attachment:image.png)\n",
    "\n",
    "The graphs depicted above shows four different graphs with 4 vertices and 5 edges a piece. On careful observation of the graph it can be quickly deduced that all the graphs are isormophic. All vertices of the graphs are connected except for the green and dark blue vertices. This provides sufficient evidence to acertain that the graphs exhibits isomorphism. From a human point of view the intuistive way to verify isomorphism between these graphs would have been as follows\n",
    "- The are equal number of Vertices in the given graphs\n",
    "- There are equal number of Edges in the given graphs. \n",
    "- There are equal amount of degree sequence in the given graphs. (2 nodes have 2 degree of edges[green and dark blue] and the other two has 3 degrees of edges[light blue and orange] summing to 10)\n",
    "\n",
    "These heuristic checks listed above may not be sufficient to determine if there is isomorphism, for more indept analysis these other conditions will be fulfiled\n",
    "- If the complement graphs of both the graphs are isomorphism, then these graphs will surely be isomorphism. \n",
    "- If there exists a permutation of the Adjacent matrix of $G$, that is equal to the Adjacent matrix of $H$, then the both graph could be considered isomorphic. A permutation of the Adjacent matrix in this context involves re-ordering the vertices in a consistent manner along both columns and row i.e. if graph the columns are labelled $v_{1}, v_{2}, v_{3}, ..., v_{n}$ along the x-axis (left to right), then the columns must be labelled $v_{1}, v_{2}, v_{3}, ..., v_{n}$ along the y-axis (top to down)."
   ]
  },
  {
   "attachments": {},
   "cell_type": "markdown",
   "metadata": {},
   "source": [
    "\n",
    "## Complexity of the Problem.\n",
    "\"Even when a problem is decidable and thus computationally solvable in principle, it may not be solvable in practice if the solution requires an inordinate amount of time or memory.\" (Michael Sipser Introduction to the Theory of Computation 3rd Edition, Chapter 7).\n",
    "\n",
    "### State of the Art\n",
    "\n",
    "A theoritical algorithm was derived by Babai & Luks (1983), based on the earlier work by Luks (1982) combined with a subfactorial algorithm of V. N. Zemylachenko (Zamylachenko, Korneeko & Tyshkevich 1985). Babai (2015) announced a quasipolynomial time algorithm for all graphs but however, retracted the quasipolynomial claim and stated a sub-exponential time bound instead after Harald Helfgott discovered a flaw in a proof (\"Graph Isomorphism Problem\", 2023). \n",
    "\n",
    "### Quasi-Polynomial Time\n",
    "An algorithm is said to run on qusipolynomial time if they run longer than polynomial time, yet not so long as to be exponential time and has a worst case sceneiro of $2^{O(log^{c}n)}$ for some fixed $c > 0$. For $c = 1$, we get a polynomial time algorithm, for $c < 1$ we get a sub-linear time algorithm.\n",
    "\n",
    "### Polynomial Time\n",
    "An algorithm is said to run on polynomial time if the time complexity of the algorithm on the worst case scenairo of input $n$, for $k > 0$, is $O(n^k)$. Polynomial time algorithms are acceptable for many practical purposes, but exponential time algorithms rarely are useful.\n",
    "Polynomial time algorithms are considered to be efficient and viable for practical applications because of the huge difference between it and an exponential time algorithm. Thus programming tasks that needs to be performed frequently within a short period of time seem to have a polynomial time algorithms and when there is none, a brute-force exponential algorithm may be implemented where and when applicable. Also worth noting that polynomial-time algorithm definition is broad in the sense that an algorithm is also considered to run on polynomial time if it makes a polynomial-time number of calls to a polynomial-time complexity function or subroutine.\n",
    "The Graph Isomorphism problem is not known to belong to the complexity class P, an algorithm is said to belong to the complexity class P if it runs in Polynomial time. In essense the graph ismorphism problem could be phrased in a less technical/mathematical form as `The search for an algorithm that can within a reasonable time, determine whether two given graphs are equivalent.` A reasonable time in this context would be a known upper bound influenced by the properties (complexity) of the given graphs.  \n",
    "\n",
    "\n",
    "Determining if there is isomorphism in Graphs requires exhaustively searching through all possible configuration of Graph $H$ until it fits perfectly into graph $G$, this is otherwise known as the brute-force algorithm.\n",
    "\n",
    "For a graphs with few nodes, this seems like a viable solution.\n",
    "The following demonstration shows how this solution can be implemented and the implications of its application."
   ]
  },
  {
   "attachments": {
    "Graph-G.png": {
     "image/png": "[encoded data removed]"
    },
    "Graph-H.png": {
     "image/png": "[encoded data removed]"
    }
   },
   "cell_type": "markdown",
   "metadata": {},
   "source": [
    "# Insight: Graph Isomorphism Problem\n",
    "\n",
    "We will consider two graphs with the aim of determining whether there is an isomorphism between them. The given graphs $G$ and $H$ are shown below. \n",
    "\n",
    "![Graph-G.png](attachment:Graph-G.png) \n",
    "$$$$\n",
    "Fig: Graph $G$                      \n",
    "$$$$\n",
    "![Graph-H.png](attachment:Graph-H.png)\n",
    "$$$$\n",
    "Fig: Graph $H$\n",
    "\n",
    "To determine if the graphs are isomorphic we go through the following steps.\n",
    "##### Assumptions\n",
    "Let $n$ = number of vertices in graph $G$.   \n",
    "Let $m$ = number of vertices in graph $H$.   \n",
    "Let $G_{n}$ = Set of nodes in graph $G$.  \n",
    "Let $H_{n}$ = Set of nodes in graph $H$.  \n",
    "\n",
    "1.  Determine the number of vertices in both graph.   \n",
    "   From the graphs above $n = m = 4$. Which satisfies our first condition for isomorphism.\n",
    "2. Determine the number of edges in the graphs.   \n",
    "   From the graphs above, $G_{n} = \\{(a,b), (a, c), (a, d), (b, d)\\}$, $H_{n} = \\{(1, 2), (1, 3), (2, 3), (3, 4)\\}$   \n",
    "3. The sum of degree sequence for all vertices. \n",
    "   From the graph above $G = \\{2, 3, 2, 1\\} = 2 + 3 + 2 + 1 = 8$; $H = \\{2, 3, 1, 2\\} = 2 + 3 + 1 + 2 = 8$ (ordered in alphabetical and ascending order respectively)\n",
    "\n",
    "   For the purpose of further checks for isomorphism between these graphs be means of Adjacent Matrix, we will be using the Python Programming language to run the simulations. \n"
   ]
  },
  {
   "cell_type": "code",
   "execution_count": null,
   "metadata": {},
   "outputs": [],
   "source": [
    "import numpy as np;\n",
    "import itertools as it;"
   ]
  },
  {
   "attachments": {
    "Graph-G'.png": {
     "image/png": "[encoded data removed]"
    },
    "Graph-H'.png": {
     "image/png": "[encoded data removed]"
    }
   },
   "cell_type": "markdown",
   "metadata": {},
   "source": [
    "4. This condition was stated previously as 'The complement of both graphs under consideration has to be isomorphic'. Complement of a graph $G$, also called edge-complement is the graph $G^{'}$ with the same vertex set as $G$ but consists of edges not present in $G$ (Weisstein, Eric W.).   \n",
    "   \n",
    "![Graph-G'.png](attachment:Graph-G'.png)   \n",
    "Fig: Graph $G^{'}$  \n",
    "    \n",
    "![Graph-H'.png](attachment:Graph-H'.png)  \n",
    "Fig: Graph $H^{'}$   \n",
    "   \n",
    "A close examination of the the complement of both graphs says a lot and we could further analyze the graphs for isomorphism by starting all over again from step 1. We will avoid this however and continue to the next step and consider this step `inconclusive` and will be further analyzed in the next step. \n",
    "\n",
    "5. \n",
    "\n"
   ]
  },
  {
   "attachments": {},
   "cell_type": "markdown",
   "metadata": {},
   "source": [
    "From the diagram above graph $G$ has "
   ]
  },
  {
   "attachments": {},
   "cell_type": "markdown",
   "metadata": {},
   "source": [
    "## Background\n",
    "\n",
    "## Graphs\n",
    "\n",
    "A Graph is an abstract data type that can be used to represent complex, non-linear relationships between objects. A graph consists of vertices (also called nodes) that are connected by edges (also called arcs). Most of the real world problems are modelled as Graphs and solutions algorithm for the problems can be found or validated using Graph computation theorems where applicable. \n",
    "Graphs are normally represented diagramatically using using circles and lines to depict vertices and edges respectively.\n",
    " \n",
    "\n",
    "\n",
    "\n",
    "For context, graphs could be used to model social networking problem to show interconnectivity of different users. Also transportation network is another problem that could be modelled using graphs showing the interconnectivity between cities and the lack of them. The Internet could also be modelled as a graph where routers represent the nodes while an edge shows that a given set of routers are connected. \n",
    "\n",
    "A graph graph does not record the direction or the magnitude of nodes and such considered undirected graph. This is in contrast to a directed-graph or digraph which accounts for the direction of the edges (usually represented using an arrow) or the magnitude. This is common for transport networking where the distance between each cities of interest. \n",
    "\n",
    "\n"
   ]
  },
  {
   "attachments": {},
   "cell_type": "markdown",
   "metadata": {},
   "source": [
    "## Demonstration 1.0\n",
    "\n",
    "### Assumptions\n",
    "Graphs used in this demonstrations are connected graphs, i.e. every pair of unique vertices are connected by a unique edge. This is for simplicity sake to help in comparism of graphs with varying number of vertices. \n",
    "For every graph the Number of Vertices $n$, the number of edge will be $\\frac{n \\times (n - 1)}{2}\\,$. \n",
    "Trying to evaluate the equivalence of a graph with $n$ edges will require the following iteration to determine if they are indeed equivalent. \n",
    "\n",
    "\n",
    "Graphh $G$ with a set of Vertices $V(G)$"
   ]
  },
  {
   "cell_type": "code",
   "execution_count": null,
   "metadata": {},
   "outputs": [],
   "source": [
    "## Demo 1.0 \n",
    "# n is the number of vertices\n",
    "n = 3\n",
    "def getVertices(n):\n",
    "    return (n * (n - 1) // 2)\n",
    "\n",
    "print(\"Number of vertices: \", n)\n",
    "print(\"Number of edges: \", getVertices(n))"
   ]
  },
  {
   "attachments": {},
   "cell_type": "markdown",
   "metadata": {},
   "source": [
    "For the above graph with 3 vertices and 6 edges, The number of checks/iteration that must be done to determine if the graphs has isomorphism will be $3 + 6 = 9$.\n",
    "\n",
    "This seems reasonable and viable from a naive person's point view. However, as the number of vertices increases to represent real life modelling problems the number of edges increases rapidly making application of this algorithm untanable. \n",
    "The following demonstration shows how the number of edges grows with increase in vertices. "
   ]
  },
  {
   "cell_type": "code",
   "execution_count": null,
   "metadata": {},
   "outputs": [],
   "source": [
    "for i in range(30, 41):\n",
    "    print(\"Number of Vertices: \", i, \" Number of Edges: \", getVertices(i))"
   ]
  },
  {
   "attachments": {},
   "cell_type": "markdown",
   "metadata": {},
   "source": [
    "# References\n",
    "\n",
    "1. M. Grohe and P. Schweitzer (2020) The Graph Isomorphism Problem. Communications of the ACM 63, 128-134.\n",
    "\n",
    "2. Yuval Filmus (2013), Computer Science Stack Exchange Questions, Stack Exchange, accessed: 12 March 2023, https://cs.stackexchange.com/questions/13625/what-exactly-is-polynomial-time\n",
    "\n",
    "3. marje (2014), Polynomial Complexity, Math Wiki, Arvutiteaduse Instituut, accessed 12 March 2023, https://mathwiki.cs.ut.ee/asymptotics/05_polynomial_complexity\n",
    "\n",
    "4. JavaTPoint, Graph Isomorphism in Discrete Mathematics, accessed: March 15 2023, https://www.javatpoint.com/graph-isomorphism-in-discrete-mathematics\n",
    "\n",
    "5. Graphs, Isaac Computer Science, National Center for Computing Education, accessed February 20 2023, https://isaaccomputerscience.org/concepts/dsa_datastruct_graph?examBoard=all&stage=all\n",
    "\n",
    "6. Graph traversals, Isaac Computer Science, National Center for Computing Education, accessed February 24 2023, https://isaaccomputerscience.org/concepts/dsa_pathfinding_dfs_bfs?examBoard=all&stage=all\n",
    "\n",
    "7. B. Miller and D. Ranum (2018), Problem Solving with Algorithms and Data Structure, Chapter 7.2: Vocabulary and Definitions, accessed: 20th March 2023, https://www.openbookproject.net/books/pythonds/Graphs/VocabularyandDefinitions.html\n",
    "\n",
    "8. R. Nayyar (2022), Representing Graphs in Data Structure, Great Learning Blog, accessed: 27 March 2023, https://www.mygreatlearning.com/blog/representing-graphs-in-data-structures/ \n",
    "\n",
    "9. D. Landup, D. Stanemic & J. Ninkovic, Representing Graphs in Code, StackAbuse, accessed: 26 March 2023,  https://stackabuse.com/courses/graphs-in-python-theory-and-implementation/lessons/representing-graphs-in-code/#adjacencylist\n",
    "\n",
    "10. Graph Isomorphism Problem. (March 23 2023). In Wikipedia https://en.wikipedia.org/w/index.php?title=Graph_isomorphism_problem&oldid=1146941370\n",
    "\n",
    "11. Weisstein, Eric W. \"Degree Sequence.\" From MathWorld--A Wolfram Web Resource. https://mathworld.wolfram.com/DegreeSequence.html\n",
    "\n",
    "12. Weisstein, Eric W. \"Graph Complement.\" From MathWorld--A Wolfram Web Resource. https://mathworld.wolfram.com/GraphComplement.html"
   ]
  }
 ],
 "metadata": {
  "kernelspec": {
   "display_name": "Python 3",
   "language": "python",
   "name": "python3"
  },
  "language_info": {
   "codemirror_mode": {
    "name": "ipython",
    "version": 3
   },
   "file_extension": ".py",
   "mimetype": "text/x-python",
   "name": "python",
   "nbconvert_exporter": "python",
   "pygments_lexer": "ipython3",
   "version": "3.9.13"
  },
  "orig_nbformat": 4,
  "vscode": {
   "interpreter": {
    "hash": "369f2c481f4da34e4445cda3fffd2e751bd1c4d706f27375911949ba6bb62e1c"
   }
  }
 },
 "nbformat": 4,
 "nbformat_minor": 2
}
