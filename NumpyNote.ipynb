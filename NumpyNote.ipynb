{
 "cells": [
  {
   "attachments": {},
   "cell_type": "markdown",
   "metadata": {},
   "source": [
    "# NumPy: Numerical Python\n",
    "***\n",
    "\n",
    "NumPy's main object is the homogeneous multidimensional array. A table of elements of the same type, indexed by a tuple of non-negative integers. \n",
    "In NumPy, dimensions are called axes. \n",
    "\n",
    "NumPy's array class is called `ndarray`. \n",
    "### `ndarray.ndim`\n",
    "The number of axes (dimensions) of the array\n",
    "### `ndarray.shape`\n",
    "The dimensions of the array. This is a tuple of integers indicating the size of the array in each dimension. For a matrix with `n` rows and `m` columns, `shape` will be `(n,m)`. \n",
    "The length of the `shape` tuple is therefore the number of axes, `ndim`.\n",
    "### `ndarray.size`\n",
    "The total number of elements of the array. This is equal to the product of the elements of `shape`. \n",
    "### `ndarray.dtype` \n",
    "An object describinig the type of the elements in the array. \n",
    "### `ndarray.data`\n",
    "The buffere containing the actual elements of the arrray.\n",
    "NumPy arrays are indexable, so this attribute is rarely needed. \n",
    "### `ndarray.dtype`\n",
    "Data types supported by NumPy array includes: \n",
    "- int64\n",
    "- float64\n",
    "- complex   "
   ]
  },
  {
   "attachments": {},
   "cell_type": "markdown",
   "metadata": {},
   "source": [
    "### `ndarray.arrange(size)`\n",
    "Creates a new `ndarray` with length of `size`\n",
    "### `ndarray.reshape(shape)`\n",
    "Arranges a one dimensional array into the specified `shape`.\n",
    "**Note** `ndarray` is immutable, and attempting to create and array and later reshape it won't work, instead the creation and reshaping should be done in one swoop like streams. Instead a copy is returned."
   ]
  },
  {
   "cell_type": "code",
   "execution_count": 1,
   "metadata": {},
   "outputs": [
    {
     "name": "stdout",
     "output_type": "stream",
     "text": [
      "[[ 0  1  2  3  4]\n",
      " [ 5  6  7  8  9]\n",
      " [10 11 12 13 14]]\n"
     ]
    },
    {
     "data": {
      "text/plain": [
       "tuple"
      ]
     },
     "execution_count": 1,
     "metadata": {},
     "output_type": "execute_result"
    }
   ],
   "source": [
    "import numpy as np\n",
    "import itertools as it\n",
    "a = np.arange(15)\n",
    "print(a.reshape(3,5))\n",
    "a\n",
    "\n",
    "b = np.arange(10).reshape(2,5)\n",
    "c = np.array(range(2, 20, 2))\n",
    "\n",
    "d = np.array([[1,2], [3,4]], dtype=complex)\n",
    "np.array([[1,2], [3,4]], dtype=int)\n",
    "\n",
    "t = 0,3,2,3,2\n",
    "type(t)"
   ]
  },
  {
   "cell_type": "code",
   "execution_count": null,
   "metadata": {},
   "outputs": [],
   "source": []
  },
  {
   "cell_type": "code",
   "execution_count": 8,
   "metadata": {},
   "outputs": [
    {
     "name": "stdout",
     "output_type": "stream",
     "text": [
      "(0, 1, 2)\n",
      "(0, 2, 1)\n",
      "(1, 0, 2)\n",
      "(1, 2, 0)\n",
      "(2, 0, 1)\n",
      "(2, 1, 0)\n"
     ]
    }
   ],
   "source": [
    "mList = list(range(3))\n",
    "for p in it.permutations(mList):\n",
    "    print(p)"
   ]
  },
  {
   "cell_type": "code",
   "execution_count": 11,
   "metadata": {},
   "outputs": [
    {
     "name": "stdout",
     "output_type": "stream",
     "text": [
      "[0 1 2 3 4 5 6 7 8 9]\n"
     ]
    }
   ],
   "source": [
    "M = np.arange(10)\n",
    "print(M)"
   ]
  }
 ],
 "metadata": {
  "kernelspec": {
   "display_name": "Python 3",
   "language": "python",
   "name": "python3"
  },
  "language_info": {
   "codemirror_mode": {
    "name": "ipython",
    "version": 3
   },
   "file_extension": ".py",
   "mimetype": "text/x-python",
   "name": "python",
   "nbconvert_exporter": "python",
   "pygments_lexer": "ipython3",
   "version": "3.9.13"
  },
  "orig_nbformat": 4,
  "vscode": {
   "interpreter": {
    "hash": "369f2c481f4da34e4445cda3fffd2e751bd1c4d706f27375911949ba6bb62e1c"
   }
  }
 },
 "nbformat": 4,
 "nbformat_minor": 2
}
